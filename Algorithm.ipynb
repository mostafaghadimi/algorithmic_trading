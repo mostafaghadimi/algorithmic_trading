{
 "cells": [
  {
   "cell_type": "code",
   "execution_count": 26,
   "metadata": {
    "ExecuteTime": {
     "end_time": "2020-07-26T11:59:06.693507Z",
     "start_time": "2020-07-26T11:59:06.688568Z"
    }
   },
   "outputs": [],
   "source": [
    "import pandas as pd\n",
    "import numpy as np\n",
    "from pandas_datareader import data"
   ]
  },
  {
   "cell_type": "code",
   "execution_count": 7,
   "metadata": {
    "ExecuteTime": {
     "end_time": "2020-07-26T11:05:19.799277Z",
     "start_time": "2020-07-26T11:05:19.790656Z"
    }
   },
   "outputs": [],
   "source": [
    "pd.set_option('max_colwidth', 1000)\n",
    "pd.set_option('display.width', 1000)"
   ]
  },
  {
   "cell_type": "code",
   "execution_count": 2,
   "metadata": {
    "ExecuteTime": {
     "end_time": "2020-07-26T10:54:08.905256Z",
     "start_time": "2020-07-26T10:54:08.902129Z"
    }
   },
   "outputs": [],
   "source": [
    "start_date = '2014-01-01'\n",
    "end_date = '2018-01-01'"
   ]
  },
  {
   "cell_type": "code",
   "execution_count": 3,
   "metadata": {
    "ExecuteTime": {
     "end_time": "2020-07-26T10:54:53.679067Z",
     "start_time": "2020-07-26T10:54:36.372525Z"
    }
   },
   "outputs": [],
   "source": [
    "google_data = data.DataReader('GOOG', 'yahoo', start_date, end_date)"
   ]
  },
  {
   "cell_type": "code",
   "execution_count": 10,
   "metadata": {
    "ExecuteTime": {
     "end_time": "2020-07-26T11:05:39.195745Z",
     "start_time": "2020-07-26T11:05:39.158895Z"
    }
   },
   "outputs": [
    {
     "data": {
      "text/html": [
       "<div>\n",
       "<style scoped>\n",
       "    .dataframe tbody tr th:only-of-type {\n",
       "        vertical-align: middle;\n",
       "    }\n",
       "\n",
       "    .dataframe tbody tr th {\n",
       "        vertical-align: top;\n",
       "    }\n",
       "\n",
       "    .dataframe thead th {\n",
       "        text-align: right;\n",
       "    }\n",
       "</style>\n",
       "<table border=\"1\" class=\"dataframe\">\n",
       "  <thead>\n",
       "    <tr style=\"text-align: right;\">\n",
       "      <th></th>\n",
       "      <th>High</th>\n",
       "      <th>Low</th>\n",
       "      <th>Open</th>\n",
       "      <th>Close</th>\n",
       "      <th>Volume</th>\n",
       "      <th>Adj Close</th>\n",
       "    </tr>\n",
       "    <tr>\n",
       "      <th>Date</th>\n",
       "      <th></th>\n",
       "      <th></th>\n",
       "      <th></th>\n",
       "      <th></th>\n",
       "      <th></th>\n",
       "      <th></th>\n",
       "    </tr>\n",
       "  </thead>\n",
       "  <tbody>\n",
       "    <tr>\n",
       "      <th>2014-01-02</th>\n",
       "      <td>556.788025</td>\n",
       "      <td>552.060730</td>\n",
       "      <td>555.647278</td>\n",
       "      <td>554.481689</td>\n",
       "      <td>3656400.0</td>\n",
       "      <td>554.481689</td>\n",
       "    </tr>\n",
       "    <tr>\n",
       "      <th>2014-01-03</th>\n",
       "      <td>556.379578</td>\n",
       "      <td>550.401978</td>\n",
       "      <td>555.418152</td>\n",
       "      <td>550.436829</td>\n",
       "      <td>3345800.0</td>\n",
       "      <td>550.436829</td>\n",
       "    </tr>\n",
       "    <tr>\n",
       "      <th>2014-01-06</th>\n",
       "      <td>557.340942</td>\n",
       "      <td>551.154114</td>\n",
       "      <td>554.426880</td>\n",
       "      <td>556.573853</td>\n",
       "      <td>3551800.0</td>\n",
       "      <td>556.573853</td>\n",
       "    </tr>\n",
       "    <tr>\n",
       "      <th>2014-01-07</th>\n",
       "      <td>567.717041</td>\n",
       "      <td>558.486633</td>\n",
       "      <td>560.399475</td>\n",
       "      <td>567.303589</td>\n",
       "      <td>5124300.0</td>\n",
       "      <td>567.303589</td>\n",
       "    </tr>\n",
       "    <tr>\n",
       "      <th>2014-01-08</th>\n",
       "      <td>571.517822</td>\n",
       "      <td>564.528992</td>\n",
       "      <td>570.860291</td>\n",
       "      <td>568.484192</td>\n",
       "      <td>4501700.0</td>\n",
       "      <td>568.484192</td>\n",
       "    </tr>\n",
       "    <tr>\n",
       "      <th>...</th>\n",
       "      <td>...</td>\n",
       "      <td>...</td>\n",
       "      <td>...</td>\n",
       "      <td>...</td>\n",
       "      <td>...</td>\n",
       "      <td>...</td>\n",
       "    </tr>\n",
       "    <tr>\n",
       "      <th>2017-12-22</th>\n",
       "      <td>1064.199951</td>\n",
       "      <td>1059.439941</td>\n",
       "      <td>1061.109985</td>\n",
       "      <td>1060.119995</td>\n",
       "      <td>755100.0</td>\n",
       "      <td>1060.119995</td>\n",
       "    </tr>\n",
       "    <tr>\n",
       "      <th>2017-12-26</th>\n",
       "      <td>1060.119995</td>\n",
       "      <td>1050.199951</td>\n",
       "      <td>1058.069946</td>\n",
       "      <td>1056.739990</td>\n",
       "      <td>760600.0</td>\n",
       "      <td>1056.739990</td>\n",
       "    </tr>\n",
       "    <tr>\n",
       "      <th>2017-12-27</th>\n",
       "      <td>1058.369995</td>\n",
       "      <td>1048.050049</td>\n",
       "      <td>1057.390015</td>\n",
       "      <td>1049.369995</td>\n",
       "      <td>1271900.0</td>\n",
       "      <td>1049.369995</td>\n",
       "    </tr>\n",
       "    <tr>\n",
       "      <th>2017-12-28</th>\n",
       "      <td>1054.750000</td>\n",
       "      <td>1044.770020</td>\n",
       "      <td>1051.599976</td>\n",
       "      <td>1048.140015</td>\n",
       "      <td>837100.0</td>\n",
       "      <td>1048.140015</td>\n",
       "    </tr>\n",
       "    <tr>\n",
       "      <th>2017-12-29</th>\n",
       "      <td>1049.699951</td>\n",
       "      <td>1044.900024</td>\n",
       "      <td>1046.719971</td>\n",
       "      <td>1046.400024</td>\n",
       "      <td>887500.0</td>\n",
       "      <td>1046.400024</td>\n",
       "    </tr>\n",
       "  </tbody>\n",
       "</table>\n",
       "<p>1007 rows × 6 columns</p>\n",
       "</div>"
      ],
      "text/plain": [
       "                   High          Low         Open        Close     Volume    Adj Close\n",
       "Date                                                                                  \n",
       "2014-01-02   556.788025   552.060730   555.647278   554.481689  3656400.0   554.481689\n",
       "2014-01-03   556.379578   550.401978   555.418152   550.436829  3345800.0   550.436829\n",
       "2014-01-06   557.340942   551.154114   554.426880   556.573853  3551800.0   556.573853\n",
       "2014-01-07   567.717041   558.486633   560.399475   567.303589  5124300.0   567.303589\n",
       "2014-01-08   571.517822   564.528992   570.860291   568.484192  4501700.0   568.484192\n",
       "...                 ...          ...          ...          ...        ...          ...\n",
       "2017-12-22  1064.199951  1059.439941  1061.109985  1060.119995   755100.0  1060.119995\n",
       "2017-12-26  1060.119995  1050.199951  1058.069946  1056.739990   760600.0  1056.739990\n",
       "2017-12-27  1058.369995  1048.050049  1057.390015  1049.369995  1271900.0  1049.369995\n",
       "2017-12-28  1054.750000  1044.770020  1051.599976  1048.140015   837100.0  1048.140015\n",
       "2017-12-29  1049.699951  1044.900024  1046.719971  1046.400024   887500.0  1046.400024\n",
       "\n",
       "[1007 rows x 6 columns]"
      ]
     },
     "execution_count": 10,
     "metadata": {},
     "output_type": "execute_result"
    }
   ],
   "source": [
    "google_data"
   ]
  },
  {
   "cell_type": "code",
   "execution_count": 23,
   "metadata": {
    "ExecuteTime": {
     "end_time": "2020-07-26T11:56:55.005860Z",
     "start_time": "2020-07-26T11:56:54.996464Z"
    }
   },
   "outputs": [],
   "source": [
    "google_data_signal = pd.DataFrame(google_data.index)\n",
    "google_data_signal['price'] = google_data['Adj Close'].values"
   ]
  },
  {
   "cell_type": "code",
   "execution_count": 24,
   "metadata": {
    "ExecuteTime": {
     "end_time": "2020-07-26T11:58:16.758433Z",
     "start_time": "2020-07-26T11:58:16.748460Z"
    }
   },
   "outputs": [],
   "source": [
    "google_data_signal['daily_difference'] = google_data_signal['price'].diff()"
   ]
  },
  {
   "cell_type": "code",
   "execution_count": 25,
   "metadata": {
    "ExecuteTime": {
     "end_time": "2020-07-26T11:58:26.004342Z",
     "start_time": "2020-07-26T11:58:25.977255Z"
    }
   },
   "outputs": [
    {
     "data": {
      "text/html": [
       "<div>\n",
       "<style scoped>\n",
       "    .dataframe tbody tr th:only-of-type {\n",
       "        vertical-align: middle;\n",
       "    }\n",
       "\n",
       "    .dataframe tbody tr th {\n",
       "        vertical-align: top;\n",
       "    }\n",
       "\n",
       "    .dataframe thead th {\n",
       "        text-align: right;\n",
       "    }\n",
       "</style>\n",
       "<table border=\"1\" class=\"dataframe\">\n",
       "  <thead>\n",
       "    <tr style=\"text-align: right;\">\n",
       "      <th></th>\n",
       "      <th>Date</th>\n",
       "      <th>price</th>\n",
       "      <th>daily_difference</th>\n",
       "    </tr>\n",
       "  </thead>\n",
       "  <tbody>\n",
       "    <tr>\n",
       "      <th>0</th>\n",
       "      <td>2014-01-02</td>\n",
       "      <td>554.481689</td>\n",
       "      <td>NaN</td>\n",
       "    </tr>\n",
       "    <tr>\n",
       "      <th>1</th>\n",
       "      <td>2014-01-03</td>\n",
       "      <td>550.436829</td>\n",
       "      <td>-4.044861</td>\n",
       "    </tr>\n",
       "    <tr>\n",
       "      <th>2</th>\n",
       "      <td>2014-01-06</td>\n",
       "      <td>556.573853</td>\n",
       "      <td>6.137024</td>\n",
       "    </tr>\n",
       "    <tr>\n",
       "      <th>3</th>\n",
       "      <td>2014-01-07</td>\n",
       "      <td>567.303589</td>\n",
       "      <td>10.729736</td>\n",
       "    </tr>\n",
       "    <tr>\n",
       "      <th>4</th>\n",
       "      <td>2014-01-08</td>\n",
       "      <td>568.484192</td>\n",
       "      <td>1.180603</td>\n",
       "    </tr>\n",
       "  </tbody>\n",
       "</table>\n",
       "</div>"
      ],
      "text/plain": [
       "        Date       price  daily_difference\n",
       "0 2014-01-02  554.481689               NaN\n",
       "1 2014-01-03  550.436829         -4.044861\n",
       "2 2014-01-06  556.573853          6.137024\n",
       "3 2014-01-07  567.303589         10.729736\n",
       "4 2014-01-08  568.484192          1.180603"
      ]
     },
     "execution_count": 25,
     "metadata": {},
     "output_type": "execute_result"
    }
   ],
   "source": [
    "google_data_signal.head()"
   ]
  },
  {
   "cell_type": "code",
   "execution_count": 27,
   "metadata": {
    "ExecuteTime": {
     "end_time": "2020-07-26T12:00:13.845993Z",
     "start_time": "2020-07-26T12:00:13.830998Z"
    }
   },
   "outputs": [],
   "source": [
    "google_data_signal['signal'] = 0\n",
    "google_data_signal['signal'] = np.where(google_data_signal['daily_difference']>0, 1, 0)"
   ]
  },
  {
   "cell_type": "code",
   "execution_count": 30,
   "metadata": {
    "ExecuteTime": {
     "end_time": "2020-07-26T12:03:04.071708Z",
     "start_time": "2020-07-26T12:03:04.062726Z"
    }
   },
   "outputs": [],
   "source": [
    "google_data_signal['positions'] = google_data_signal['signal'].diff()"
   ]
  },
  {
   "cell_type": "code",
   "execution_count": 32,
   "metadata": {
    "ExecuteTime": {
     "end_time": "2020-07-26T12:03:22.688503Z",
     "start_time": "2020-07-26T12:03:22.664345Z"
    }
   },
   "outputs": [
    {
     "data": {
      "text/html": [
       "<div>\n",
       "<style scoped>\n",
       "    .dataframe tbody tr th:only-of-type {\n",
       "        vertical-align: middle;\n",
       "    }\n",
       "\n",
       "    .dataframe tbody tr th {\n",
       "        vertical-align: top;\n",
       "    }\n",
       "\n",
       "    .dataframe thead th {\n",
       "        text-align: right;\n",
       "    }\n",
       "</style>\n",
       "<table border=\"1\" class=\"dataframe\">\n",
       "  <thead>\n",
       "    <tr style=\"text-align: right;\">\n",
       "      <th></th>\n",
       "      <th>Date</th>\n",
       "      <th>price</th>\n",
       "      <th>daily_difference</th>\n",
       "      <th>signal</th>\n",
       "      <th>positions</th>\n",
       "    </tr>\n",
       "  </thead>\n",
       "  <tbody>\n",
       "    <tr>\n",
       "      <th>0</th>\n",
       "      <td>2014-01-02</td>\n",
       "      <td>554.481689</td>\n",
       "      <td>NaN</td>\n",
       "      <td>0</td>\n",
       "      <td>NaN</td>\n",
       "    </tr>\n",
       "    <tr>\n",
       "      <th>1</th>\n",
       "      <td>2014-01-03</td>\n",
       "      <td>550.436829</td>\n",
       "      <td>-4.044861</td>\n",
       "      <td>0</td>\n",
       "      <td>0.0</td>\n",
       "    </tr>\n",
       "    <tr>\n",
       "      <th>2</th>\n",
       "      <td>2014-01-06</td>\n",
       "      <td>556.573853</td>\n",
       "      <td>6.137024</td>\n",
       "      <td>1</td>\n",
       "      <td>1.0</td>\n",
       "    </tr>\n",
       "    <tr>\n",
       "      <th>3</th>\n",
       "      <td>2014-01-07</td>\n",
       "      <td>567.303589</td>\n",
       "      <td>10.729736</td>\n",
       "      <td>1</td>\n",
       "      <td>0.0</td>\n",
       "    </tr>\n",
       "    <tr>\n",
       "      <th>4</th>\n",
       "      <td>2014-01-08</td>\n",
       "      <td>568.484192</td>\n",
       "      <td>1.180603</td>\n",
       "      <td>1</td>\n",
       "      <td>0.0</td>\n",
       "    </tr>\n",
       "    <tr>\n",
       "      <th>5</th>\n",
       "      <td>2014-01-09</td>\n",
       "      <td>563.009705</td>\n",
       "      <td>-5.474487</td>\n",
       "      <td>0</td>\n",
       "      <td>-1.0</td>\n",
       "    </tr>\n",
       "    <tr>\n",
       "      <th>6</th>\n",
       "      <td>2014-01-10</td>\n",
       "      <td>562.979797</td>\n",
       "      <td>-0.029907</td>\n",
       "      <td>0</td>\n",
       "      <td>0.0</td>\n",
       "    </tr>\n",
       "    <tr>\n",
       "      <th>7</th>\n",
       "      <td>2014-01-13</td>\n",
       "      <td>559.393250</td>\n",
       "      <td>-3.586548</td>\n",
       "      <td>0</td>\n",
       "      <td>0.0</td>\n",
       "    </tr>\n",
       "    <tr>\n",
       "      <th>8</th>\n",
       "      <td>2014-01-14</td>\n",
       "      <td>572.553955</td>\n",
       "      <td>13.160706</td>\n",
       "      <td>1</td>\n",
       "      <td>1.0</td>\n",
       "    </tr>\n",
       "    <tr>\n",
       "      <th>9</th>\n",
       "      <td>2014-01-15</td>\n",
       "      <td>572.165405</td>\n",
       "      <td>-0.388550</td>\n",
       "      <td>0</td>\n",
       "      <td>-1.0</td>\n",
       "    </tr>\n",
       "  </tbody>\n",
       "</table>\n",
       "</div>"
      ],
      "text/plain": [
       "        Date       price  daily_difference  signal  positions\n",
       "0 2014-01-02  554.481689               NaN       0        NaN\n",
       "1 2014-01-03  550.436829         -4.044861       0        0.0\n",
       "2 2014-01-06  556.573853          6.137024       1        1.0\n",
       "3 2014-01-07  567.303589         10.729736       1        0.0\n",
       "4 2014-01-08  568.484192          1.180603       1        0.0\n",
       "5 2014-01-09  563.009705         -5.474487       0       -1.0\n",
       "6 2014-01-10  562.979797         -0.029907       0        0.0\n",
       "7 2014-01-13  559.393250         -3.586548       0        0.0\n",
       "8 2014-01-14  572.553955         13.160706       1        1.0\n",
       "9 2014-01-15  572.165405         -0.388550       0       -1.0"
      ]
     },
     "execution_count": 32,
     "metadata": {},
     "output_type": "execute_result"
    }
   ],
   "source": [
    "google_data_signal.head(10)"
   ]
  },
  {
   "cell_type": "code",
   "execution_count": 33,
   "metadata": {
    "ExecuteTime": {
     "end_time": "2020-07-26T12:10:02.007928Z",
     "start_time": "2020-07-26T12:10:01.782479Z"
    }
   },
   "outputs": [],
   "source": [
    "import matplotlib.pyplot as plt"
   ]
  },
  {
   "cell_type": "code",
   "execution_count": 38,
   "metadata": {
    "ExecuteTime": {
     "end_time": "2020-07-26T12:13:57.946787Z",
     "start_time": "2020-07-26T12:13:57.732731Z"
    }
   },
   "outputs": [
    {
     "data": {
      "text/plain": [
       "[<matplotlib.lines.Line2D at 0x7f423d68b2e8>]"
      ]
     },
     "execution_count": 38,
     "metadata": {},
     "output_type": "execute_result"
    },
    {
     "data": {
      "image/png": "[encoded data removed]",
      "text/plain": [
       "<Figure size 432x288 with 1 Axes>"
      ]
     },
     "metadata": {},
     "output_type": "display_data"
    }
   ],
   "source": [
    "fig = plt.figure()\n",
    "ax1 = fig.add_subplot(111, ylabel=\"Google price in $\")\n",
    "google_data_signal['price'].plot(ax=ax1, color='r', lw=2.)\n",
    "ax1.plot(google_data_signal.loc[google_data_signal['positions'] == 1.0].index, google_data_signal['price'][google_data_signal['positions'] == 1.0], '^', markersize=5, color='m')"
   ]
  }
 ],
 "metadata": {
  "kernelspec": {
   "display_name": "Python 3",
   "language": "python",
   "name": "python3"
  },
  "language_info": {
   "codemirror_mode": {
    "name": "ipython",
    "version": 3
   },
   "file_extension": ".py",
   "mimetype": "text/x-python",
   "name": "python",
   "nbconvert_exporter": "python",
   "pygments_lexer": "ipython3",
   "version": "3.6.9"
  }
 },
 "nbformat": 4,
 "nbformat_minor": 2
}
